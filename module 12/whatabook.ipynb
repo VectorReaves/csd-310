{
 "cells": [
  {
   "cell_type": "code",
   "execution_count": null,
   "id": "fa1fbe85",
   "metadata": {},
   "outputs": [],
   "source": [
    "# Module imports\n",
    "import sys\n",
    "import mysql.connector\n",
    "from mysql.connector import errorcode"
   ]
  },
  {
   "cell_type": "code",
   "execution_count": null,
   "id": "c21385bf",
   "metadata": {},
   "outputs": [],
   "source": [
    "# enter the configs\n",
    "config = {\n",
    "    \"user\": \"whatabook_user\",\n",
    "    \"password\": \"MySQL8IsGreat!\",\n",
    "    \"host\": \"127.0.0.1\",\n",
    "    \"database\": \"whatabook\",\n",
    "    \"raise_on_warnings\": True\n",
    "}"
   ]
  },
  {
   "cell_type": "code",
   "execution_count": null,
   "id": "23df8fda",
   "metadata": {},
   "outputs": [],
   "source": [
    "# Create menues with def statements.\n",
    "def show_menu():\n",
    "    print(\"\\n Menu\")\n",
    "    print(\"    1. View Books\\n    2. View Store Locations\\n    4. Exit Program\")\n",
    "    try:\n",
    "        choice = int(input('      <Example enterbook listing>: '))\n",
    "        return choice\n",
    "    except ValueError:\n",
    "        print(\"\\n  Invalid entry...\\n\")\n",
    "        sys.exit(0)\n",
    "\n",
    "        # Show the book\n",
    "def show_books(_cursor):\n",
    "    _cursor.execute(\"SELECT book_id, book_name, author, details from book\")\n",
    "    books = _cursor.fetchall()\n",
    "    print(\"\\n  -- DISPLAYING BOOK LISTING --\")\n",
    "        for book in books:\n",
    "        print(\"  Book Name: {}\\n  Author: {}\\n  Details: {}\\n\".format(book[0], book[1]))\n",
    "        # Show the location\n",
    "def show_locations(_cursor):\n",
    "    _cursor.execute(\"SELECT store_id, locale from store\")\n",
    "    locations = _cursor.fetchall()\n",
    "    print(\"\\n  -- Store Places --\")\n",
    "    for location in locations:\n",
    "        print(\"  Locale: {}\\n\".format(location[1]))\n",
    "# You want to validate  the users\n",
    "def validate_user():\n",
    "    \"\"\" validate the users ID \"\"\"\n",
    "    try:\n",
    "        user_id = int(input('\\n      Enter ID for customers <Example 1 for user_id 1>: '))\n",
    "\n",
    "        if user_id < 0 or user_id > 3:\n",
    "            print(\"\\n  Invalid entry...\\n\")\n",
    "            sys.exit(0)\n",
    "\n",
    "        return user_id\n",
    "    except ValueError:\n",
    "        print(\"\\n  Invalid entry...\\n\")\n",
    "        sys.exit(0)\n",
    "\n",
    "def show_account_menu():\n",
    "    try:\n",
    "        print(\"\\n      -- Customer Menu --\")\n",
    "        print(\"        1. Wishlist\\n        2. Add Book\\n        3. Main Menu\")\n",
    "        account_option = int(input('        <Example enter: 1 for wishlist>: '))\n",
    "\n",
    "        return account_option\n",
    "    except ValueError:\n",
    "        print(\"\\n  Invalid entry...\\n\")\n",
    "\n",
    "        sys.exit(0)\n",
    "\n",
    "def show_wishlist(_cursor, _user_id):\n",
    "    _cursor.execute(\"SELECT user.user_id, user.first_name, user.last_name, book.book_id, book.book_name, book.author \" + \n",
    "                    \"FROM wishlist \" + \n",
    "                    \"INNER JOIN user ON wishlist.user_id = user.user_id \" + \n",
    "                    \"WHERE user.user_id = {}\".format(_user_id))\n",
    "    # Print your wishlist\n",
    "    for book in wishlist:\n",
    "        print(\"        Book Name: {}\\n        Author: {}\\n\".format(book[4], book[5]))\n",
    "\n",
    "try:\n",
    "    db = mysql.connector.connect(**config)\n",
    "    print(\"\\n  Welcome to the WhatABook Application! \")\n",
    "    user_selection = show_menu()"
   ]
  },
  {
   "cell_type": "code",
   "execution_count": null,
   "id": "f4956247",
   "metadata": {},
   "outputs": [],
   "source": [
    "    db.close()\n",
    "    # Close program"
   ]
  }
 ],
 "metadata": {
  "kernelspec": {
   "display_name": "Python 3 (ipykernel)",
   "language": "python",
   "name": "python3"
  },
  "language_info": {
   "codemirror_mode": {
    "name": "ipython",
    "version": 3
   },
   "file_extension": ".py",
   "mimetype": "text/x-python",
   "name": "python",
   "nbconvert_exporter": "python",
   "pygments_lexer": "ipython3",
   "version": "3.9.7"
  }
 },
 "nbformat": 4,
 "nbformat_minor": 5
}
