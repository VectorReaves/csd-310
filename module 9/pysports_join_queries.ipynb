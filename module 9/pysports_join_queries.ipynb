{
 "cells": [
  {
   "cell_type": "code",
   "execution_count": null,
   "id": "ead4c60d",
   "metadata": {},
   "outputs": [],
   "source": [
    "from pymongo import MongoClient\n",
    "import pymongo\n",
    "\n",
    "\n",
    "# Connect to MongoDB server.\n",
    "url = \"mongodb+srv://vectorreaves:<password>@cluster0.qiupn.mongodb.net/myFirstDatabase?retryWrites=true&w=majority\"\n",
    "client = MongoClient(url)\n",
    "\n",
    "db = client.pytech\n",
    "\n",
    "# Use query function to call upon the variable defined by the 4 digit number.\n",
    "students = db.students\n",
    "studentList = students.find({})\n",
    "print(\"DISPLAYING STUDENTS DOCUMENTS FROM find() QUERY\")\n",
    "\n",
    "\n",
    "for doc in studentList:\n",
    "    print(f\" Student ID: \" + doc[\"student_id\"] + \"\\n  First Name: \" + doc[\"first_name\"] + \"\\n  Last Name: \" + doc[\"last_name\"] + \"\\n\")\n",
    "\n",
    "# create student vartiables\n",
    "thorin = students.find_one({\"student_id\": \"1007\"})\n",
    "bilbo = students.find_one({\"student_id\": \"1008\"})\n",
    "frodo = students.find_one({\"student_id\": \"1009\"})\n",
    " \n",
    "# Use query function to call upon the variable defined by the 4 digit number.\n",
    "print(\"\\n  -- DISPLAYING STUDENT DOCUMENT FROM find_one() QUERY --\")\n",
    "print(f\" Student ID: {thorin}{'student_id'}  First Name: {thorin}{'first_name'}  Last Name: {thorin}{'last_name'}\")\n",
    "print(f\" Student ID: {bilbo}{'student_id'}  First Name: {bilbo}{'first_name'}  Last Name: {bilbo}{'last_name'}\")\n",
    "print(f\" Student ID: {frodo}{'student_id'}  First Name: {frodo}{'first_name'}  Last Name: {frodo}{'last_name'}\")\n",
    "\n",
    "\n",
    "input(\"End of program, press any key to continue.\")\n",
    "\n",
    "\n",
    "# module 9 Code to connect to SQl database\n",
    "#SELECT player_id \n",
    "#FROM first_name \n",
    "#INNER JOIN last_name ON player.team_id = team.team_id;\n",
    "\n",
    "\n"
   ]
  }
 ],
 "metadata": {
  "kernelspec": {
   "display_name": "Python 3 (ipykernel)",
   "language": "python",
   "name": "python3"
  },
  "language_info": {
   "codemirror_mode": {
    "name": "ipython",
    "version": 3
   },
   "file_extension": ".py",
   "mimetype": "text/x-python",
   "name": "python",
   "nbconvert_exporter": "python",
   "pygments_lexer": "ipython3",
   "version": "3.9.7"
  }
 },
 "nbformat": 4,
 "nbformat_minor": 5
}
