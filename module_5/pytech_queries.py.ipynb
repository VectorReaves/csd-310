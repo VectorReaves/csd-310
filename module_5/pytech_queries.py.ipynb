{
 "cells": [
  {
   "cell_type": "code",
   "execution_count": 3,
   "id": "6743cc29",
   "metadata": {},
   "outputs": [
    {
     "ename": "SyntaxError",
     "evalue": "EOL while scanning string literal (Temp/ipykernel_13556/507002007.py, line 3)",
     "output_type": "error",
     "traceback": [
      "\u001b[1;36m  File \u001b[1;32m\"C:\\Users\\zachg\\AppData\\Local\\Temp/ipykernel_13556/507002007.py\"\u001b[1;36m, line \u001b[1;32m3\u001b[0m\n\u001b[1;33m    myclient = pymongo.MongoClient(\"mongodb+srv://vectorreaves:<password>@cluster0.qiupn.mongodb.net/myFirstDatabase?retryWrites=true&w=majority\u001b[0m\n\u001b[1;37m                                                                                                                                                ^\u001b[0m\n\u001b[1;31mSyntaxError\u001b[0m\u001b[1;31m:\u001b[0m EOL while scanning string literal\n"
     ]
    }
   ],
   "source": [
    "from pymongo import MongoClient\n",
    "import pymongo\n",
    "myclient = pymongo.MongoClient(\"mongodb+srv://vectorreaves:<password>@cluster0.qiupn.mongodb.net/myFirstDatabase?retryWrites=true&w=majority\n",
    "\")\n",
    "\n",
    "fred_student_id = students.insert_one(fred).inserted_id\n",
    "amy_student_id = students.insert_one(amy).inserted_id\n",
    "mike_student_id = students.insert_one(mike).inserted_id\n",
    "\n",
    " \n",
    "print(fred_student_id + amy_student_id + mike_student_id)\n",
    " \n",
    "\n",
    "docs = db.collection_name.find({})\n",
    " \n",
    "for doc in docs:\n",
    " print(doc)\n",
    " \n",
    "\n",
    "doc = db.collection_name.find_one({'student_id': '1007', 'student_id': '1008', 'student_id': '1009'})\n",
    "\n",
    "for x in doc.find(1007):\n",
    "  print(x)"
   ]
  },
  {
   "cell_type": "code",
   "execution_count": null,
   "id": "461a82e1",
   "metadata": {},
   "outputs": [],
   "source": []
  }
 ],
 "metadata": {
  "kernelspec": {
   "display_name": "Python 3 (ipykernel)",
   "language": "python",
   "name": "python3"
  },
  "language_info": {
   "codemirror_mode": {
    "name": "ipython",
    "version": 3
   },
   "file_extension": ".py",
   "mimetype": "text/x-python",
   "name": "python",
   "nbconvert_exporter": "python",
   "pygments_lexer": "ipython3",
   "version": "3.9.7"
  }
 },
 "nbformat": 4,
 "nbformat_minor": 5
}
